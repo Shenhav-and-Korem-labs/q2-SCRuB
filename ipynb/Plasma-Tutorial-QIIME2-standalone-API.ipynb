{
 "cells": [
  {
   "cell_type": "markdown",
   "metadata": {},
   "source": [
    "# Tutorial Introduction"
   ]
  },
  {
   "cell_type": "markdown",
   "metadata": {},
   "source": [
    "\n",
    "[SCRuB](https://korem-lab.github.io/SCRuB/) is a tool designed to help researchers address the common issue of contamination in microbial studies. This package provides an easy to use framework to apply SCRuB to your projects. All you need to get started are a feature tables describing both your samples and negative controls, and a metadata files describing each sample. \n",
    "\n",
    "In this tutorial we use _SCRuB_ to decontaminate a dataset comparing the plasma samples of cancer and control subejcts published in [Poore et al](https://www.nature.com/articles/s41586-020-2095-1). This data can be downloaded with the following links:\n",
    "\n",
    "* **Table** (table.qza) | [download](https://github.com/korem-lab/q2-SCRuB/q2-SCRuB/tutorials/data/table.qza')\n",
    "* **Sample Metadata** (metadata.tsv) | [download](https://github.com/korem-lab/q2-SCRuB/q2-SCRuB/tutorials/data/plasma_metadata.tsv)\n",
    "\n",
    "\n",
    "**Note**: This tutorial assumes you have installed [QIIME2](https://qiime2.org/) using one of the procedures in the [install documents](https://docs.qiime2.org/2020.2/install/). This tutorial also assumed you have installed [SCRuB](https://korem-lab.github.io/SCRuB/).\n",
    "\n",
    "First, we will make a tutorial directory and download the data above and move the files to the `plasma-data` directory:\n",
    "\n",
    "```bash\n",
    "mkdir plasma-data\n",
    "```\n",
    "\n",
    "First we will import our data with the QIIME2 Python API. \n"
   ]
  },
  {
   "cell_type": "code",
   "execution_count": 1,
   "metadata": {},
   "outputs": [],
   "source": [
    "import os\n",
    "import warnings\n",
    "import pandas as pd\n",
    "import numpy as np\n",
    "# hide pandas Future/Deprecation Warning(s) for tutorial\n",
    "warnings.filterwarnings(\"ignore\", category=DeprecationWarning) \n",
    "warnings.simplefilter(action='ignore', category=FutureWarning)\n",
    "\n",
    "# import table\n",
    "table =pd.read_csv('plasma-data/table.tsv', sep='\\t', index_col=0)\n",
    "# import metadata\n",
    "metadata = pd.read_csv('plasma-data/metadata.tsv', sep='\\t', index_col=0)\n"
   ]
  },
  {
   "cell_type": "markdown",
   "metadata": {},
   "source": [
    "Next, we will demonstrate how to run SCRuB on this dataset. First, we will explore the required samples and metadata for SCRuB:"
   ]
  },
  {
   "cell_type": "code",
   "execution_count": 2,
   "metadata": {},
   "outputs": [],
   "source": [
    "from q2_SCRuB import SCRuB"
   ]
  },
  {
   "cell_type": "markdown",
   "metadata": {},
   "source": [
    "To run SCRuB we only need to run the one single command. The inputs are:\n",
    "\n",
    "1. `table`\n",
    "    - The table is of type `FeatureTable[Frequency]` which is a table where the rows are features (e.g. ASVs/microbes), the columns are samples, and the entries are the number of sequences for each sample-feature pair.\n",
    "2. `metadata`\n",
    "    - This is a QIIME2 formatted [metadata](https://docs.qiime2.org/2020.2/tutorials/metadata/) (e.g. tsv format) where the rows are samples matched to the (1) table and the columns are different sample data (e.g. time point).  \n",
    "3. ( _Optional_ ) `control_idx_column`\n",
    "    - This is the name of the column in the (2) metadata that indicates the which samples should be treated as negative controls. If not specified, will identify negative controls by searching for a metadata column of 'empo_2' or 'qiita_empo_2', and identifying which entries contain the keyword 'negative'\n",
    "4. ( _Optional_ ) `sample_type_column`\n",
    "    - This is the name of the column in the (2) metadata that indicates the sample type, which specifies the groupings of negative controls SCRuB should use for decontamination. Default is 'sample_type'\n",
    "5. ( _Optional_ ) `well_location_column`\n",
    "    - This is the name of the column in the (2) metadata that indicates the well of each sample, which specifies the groupings of negative controls SCRuB should use for decontamination. Default is 'well_id'\n",
    "6. ( _Optional_ ) `control_order`\n",
    "    - specifies the ordering which the negative controls from `sample_type` should be run. Default uses the ordering in which the sample are found in the metadata table.\n",
    "\n",
    "7. output-dir\n",
    "    - The desired location of the output. We will cover each output independently below.  \n",
    "\n",
    "In this tutorial our control_idx_column is `is_control`, our sample_type_column in `sample_type`, and our well_location_column is `well_id`. Now we are ready to SCRuB away the contamination:"
   ]
  },
  {
   "cell_type": "code",
   "execution_count": 3,
   "metadata": {},
   "outputs": [
    {
     "name": "stdout",
     "output_type": "stream",
     "text": [
      "Running SCRuB on Qiime2!\n",
      "Running external command line application(s). This may print messages to stdout and/or stderr.\n",
      "The command(s) being run are below. These commands cannot be manually re-run as they will depend on temporary files that no longer exist.\n",
      "\n",
      "Command: run_SCRuB.R --samples_counts_path /var/folders/60/0byq_5yx2jbgs0cn6s5s2y7r0000gn/T/tmpskjouvce/samples.csv --sample_metadata_path /var/folders/60/0byq_5yx2jbgs0cn6s5s2y7r0000gn/T/tmpskjouvce/metadata.csv --control_order control blank DNA extraction,control blank library prep --output_path /var/folders/60/0byq_5yx2jbgs0cn6s5s2y7r0000gn/T/tmpskjouvce/scrubbed.Rdata\n",
      "\n",
      "R version 4.1.3 (2022-03-10) \n"
     ]
    },
    {
     "name": "stderr",
     "output_type": "stream",
     "text": [
      "Loading required package: torch\n",
      "Loading required package: glmnet\n",
      "Loading required package: Matrix\n",
      "Loaded glmnet 4.1-4\n",
      "Loading required package: tidyverse\n",
      "── Attaching packages ─────────────────────────────────────── tidyverse 1.3.1 ──\n",
      "✔ ggplot2 3.3.6     ✔ purrr   0.3.4\n",
      "✔ tibble  3.1.7     ✔ dplyr   1.0.9\n",
      "✔ tidyr   1.2.0     ✔ stringr 1.4.0\n",
      "✔ readr   2.1.2     ✔ forcats 0.5.1\n",
      "── Conflicts ────────────────────────────────────────── tidyverse_conflicts() ──\n",
      "✖ tidyr::expand() masks Matrix::expand()\n",
      "✖ dplyr::filter() masks stats::filter()\n",
      "✖ dplyr::lag()    masks stats::lag()\n",
      "✖ tidyr::pack()   masks Matrix::pack()\n",
      "✖ tidyr::unpack() masks Matrix::unpack()\n",
      "Loading required package: magrittr\n",
      "\n",
      "Attaching package: ‘magrittr’\n",
      "\n",
      "The following object is masked from ‘package:purrr’:\n",
      "\n",
      "    set_names\n",
      "\n",
      "The following object is masked from ‘package:tidyr’:\n",
      "\n",
      "    extract\n",
      "\n",
      "Loading required package: rlang\n",
      "\n",
      "Attaching package: ‘rlang’\n",
      "\n",
      "The following object is masked from ‘package:magrittr’:\n",
      "\n",
      "    set_names\n",
      "\n",
      "The following objects are masked from ‘package:purrr’:\n",
      "\n",
      "    %@%, as_function, flatten, flatten_chr, flatten_dbl, flatten_int,\n",
      "    flatten_lgl, flatten_raw, invoke, splice\n",
      "\n"
     ]
    },
    {
     "name": "stdout",
     "output_type": "stream",
     "text": [
      "SCRuB: 0.0.1 \n",
      "1) Loading datas\n",
      "2) Decontaminating \n",
      "[1] \"Incorporating the well metadata to track well-to-well leakage!\"\n",
      "[1] \"SCRuBbing away contamination in the control blank DNA extraction controls...\"\n",
      "[1] \"SCRuBbing away contamination in the control blank library prep controls...\"\n",
      "3) Write output\n"
     ]
    }
   ],
   "source": [
    "scrubbed = SCRuB(table.iloc[:750], \n",
    "                 metadata, \n",
    "                'is_control', # specifies metadata column where True denotes the negative controls\n",
    "                'sample_type', # specifies metadata column denoting the sample type\n",
    "                'well_id', # specifies metadata column representing samples location, in 'A11','B10' format\n",
    "                ['control blank DNA extraction','control blank library prep']\n",
    "                )"
   ]
  },
  {
   "cell_type": "markdown",
   "metadata": {},
   "source": [
    "Now we can compare the raw data and SCRuB's output."
   ]
  },
  {
   "cell_type": "code",
   "execution_count": 4,
   "metadata": {},
   "outputs": [],
   "source": [
    "import os\n",
    "import warnings\n",
    "import qiime2 as q2\n",
    "# hide pandas Future/Deprecation Warning(s) for tutorial\n",
    "warnings.filterwarnings(\"ignore\", category=DeprecationWarning) \n",
    "warnings.simplefilter(action='ignore', category=FutureWarning)\n",
    "\n",
    "# import table\n",
    "table = q2.Artifact.load('plasma-data/table.qza')\\\n",
    "# import metadata\n",
    "metadata = q2.Metadata.load('plasma-data/metadata.tsv')\n",
    "# import SCRuB output\n",
    "scrubbed = q2.Artifact.load('results/scrubbed.qza')"
   ]
  },
  {
   "cell_type": "code",
   "execution_count": 5,
   "metadata": {},
   "outputs": [],
   "source": [
    "from qiime2.plugins.deicode.actions import rpca\n",
    "from qiime2.plugins.emperor.actions import (plot, biplot)"
   ]
  },
  {
   "cell_type": "code",
   "execution_count": 6,
   "metadata": {},
   "outputs": [
    {
     "data": {
      "text/plain": [
       "'results/Raw-RPCA-biplot.qzv'"
      ]
     },
     "execution_count": 6,
     "metadata": {},
     "output_type": "execute_result"
    }
   ],
   "source": [
    "# run RPCA and plot with emperor\n",
    "rpca_biplot, rpca_distance = rpca(table)\n",
    "rpca_biplot_emperor = biplot(rpca_biplot, metadata)\n",
    "# make directory to store results\n",
    "output_path = 'results'\n",
    "if os.path.isdir(output_path)==False:\n",
    "    os.mkdir(output_path)\n",
    "\n",
    "# now we can save the plots\n",
    "rpca_biplot_emperor.visualization.save(os.path.join(output_path, 'Raw-RPCA-biplot.qzv'))\n"
   ]
  },
  {
   "cell_type": "markdown",
   "metadata": {},
   "source": [
    "\n",
    "Now we can visualize the samples via RPCA    \n",
    "\n",
    "![image.png](results/Raw-RPCA.png)\n",
    "\n",
    "\n"
   ]
  },
  {
   "cell_type": "markdown",
   "metadata": {},
   "source": [
    "For comparison, we can observe the samples decontaminated by SCRuB:"
   ]
  },
  {
   "cell_type": "code",
   "execution_count": 8,
   "metadata": {},
   "outputs": [
    {
     "data": {
      "text/plain": [
       "'results/SCRuBbed-RPCA-biplot.qzv'"
      ]
     },
     "execution_count": 8,
     "metadata": {},
     "output_type": "execute_result"
    }
   ],
   "source": [
    "# run RPCA and plot with emperor\n",
    "rpca_biplot, rpca_distance = rpca(scrubbed)\n",
    "rpca_biplot_emperor = biplot(rpca_biplot, metadata)\n",
    "\n",
    "# save the plots\n",
    "rpca_biplot_emperor.visualization.save(os.path.join(output_path, 'SCRuBbed-RPCA-biplot.qzv'))"
   ]
  },
  {
   "cell_type": "markdown",
   "metadata": {},
   "source": [
    "![image.png](results/SCRuBbed-RPCA.png)"
   ]
  }
 ],
 "metadata": {
  "kernelspec": {
   "display_name": "qiime2",
   "language": "python",
   "name": "qiime2"
  },
  "language_info": {
   "codemirror_mode": {
    "name": "ipython",
    "version": 3
   },
   "file_extension": ".py",
   "mimetype": "text/x-python",
   "name": "python",
   "nbconvert_exporter": "python",
   "pygments_lexer": "ipython3",
   "version": "3.8.13"
  }
 },
 "nbformat": 4,
 "nbformat_minor": 2
}
